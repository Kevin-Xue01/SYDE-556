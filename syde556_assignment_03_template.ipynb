{
 "cells": [
  {
   "cell_type": "markdown",
   "metadata": {},
   "source": [
    "# SYDE 556/750 --- Assignment 3\n",
    "**Student ID: 20814292**\n",
    "\n",
    "*Note:* Please include your numerical student ID only, do *not* include your name.\n",
    "\n",
    "*Note:* Refer to the [PDF](https://github.com/celiasmith/syde556-f22/raw/master/assignments/assignment_03/syde556_assignment_03.pdf) for the full instructions (including some hints), this notebook contains abbreviated instructions only. Cells you need to fill out are marked with a \"writing hand\" symbol. Of course, you can add new cells in between the instructions, but please leave the instructions intact to facilitate marking."
   ]
  },
  {
   "cell_type": "code",
   "execution_count": 459,
   "metadata": {},
   "outputs": [],
   "source": [
    "# Import numpy and matplotlib -- you shouldn't need any other libraries\n",
    "import numpy as np\n",
    "import matplotlib.pyplot as plt\n",
    "\n",
    "# Fix the numpy random seed for reproducible results\n",
    "np.random.seed(18945)\n",
    "\n",
    "# Some formating options\n",
    "%config InlineBackend.figure_formats = ['svg']"
   ]
  },
  {
   "cell_type": "markdown",
   "metadata": {},
   "source": [
    "# 1. Decoding from a population\n",
    "\n",
    "**a) Tuning curves.** Plot the tuning curves (firing rate of each neuron for different $x$ values between $-2$ and $2$)."
   ]
  },
  {
   "cell_type": "code",
   "execution_count": null,
   "metadata": {},
   "outputs": [],
   "source": [
    "n = 20 # number of neurons\n",
    "dx = 0.1  # step size\n",
    "radius = 2.0\n",
    "x = np.arange(-int(radius), int(radius), dx)\n",
    "tau_ref = 2.0e-3    \n",
    "tau_RC = 20.0e-3\n",
    "\n",
    "maximum_firing_rates = np.random.uniform(100, 200, size=(n, 1))\n",
    "x_intercepts = np.random.uniform(-radius, radius, size=(n, 1))\n",
    "encoders = np.random.choice([1, -1], size=(n, 1))\n",
    "\n",
    "def G(_J: np.ndarray):\n",
    "    _J[_J > 1] = 1.0 / (tau_ref - tau_RC * np.log(1 - (1/_J[_J > 1])))\n",
    "    _J[_J <= 1] = 0\n",
    "    return _J\n",
    "\n",
    "alphas = (- 1.0 + (1.0 / (1.0 - np.exp((1.0 / tau_RC) * (tau_ref - (1.0 / maximum_firing_rates)))))) / (radius - x_intercepts)\n",
    "j_bias = (radius - (x_intercepts / (1.0 - np.exp((1.0 / tau_RC) * (tau_ref - (1.0 / maximum_firing_rates)))))) / (radius - x_intercepts)\n",
    "\n",
    "A = G(alphas * encoders @ x.reshape(1, len(x)) + j_bias)\n",
    "\n",
    "for i in range(n):\n",
    "    plt.plot(x, A[i, :], label=f'Neuron {i+1}', linewidth='1')\n",
    "\n",
    "plt.title(f\"Neuron tuning curves of {n} Neurons\")\n",
    "plt.xlabel('x')\n",
    "plt.ylabel('$a_{i}(x)$ [Hz]')\n",
    "\n",
    "plt.legend(loc='upper left', bbox_to_anchor=(1, 1))\n",
    "plt.show()"
   ]
  },
  {
   "cell_type": "markdown",
   "metadata": {},
   "source": [
    "**b) Decoder and error computation.** Compute the decoders and plot $(x-\\hat{x})$. When computing decoders, take into account noise ($\\sigma=0.1 \\cdot 200\\,\\mathrm{Hz}$). When computing $\\hat{x}$, add random Gaussian noise with $\\sigma=0.1 \\cdot 200\\,\\mathrm{Hz}$ to the activity. Report the Root Mean-Squared Error (RMSE)."
   ]
  },
  {
   "cell_type": "code",
   "execution_count": null,
   "metadata": {},
   "outputs": [],
   "source": [
    "def rmse(_actual, _predicted):\n",
    "    return np.sqrt(np.mean((_actual - _predicted) ** 2))\n",
    "\n",
    "sigma = 0.2 * 200\n",
    "noise = np.random.normal(0, sigma, size=A.shape)\n",
    "noisy_A = A + noise\n",
    "noisy_D = np.array(np.linalg.lstsq(A @ A.T + len(x) * np.square(sigma) * np.eye(n), A @ x, rcond=None)[0])\n",
    "x_hat = noisy_A.T @ noisy_D\n",
    "noisy_A_noisy_D_RMSE = rmse(x, x_hat)\n",
    "\n",
    "# Plot the difference x - x_hat\n",
    "plt.figure(figsize=(8, 4))\n",
    "plt.plot(x, x - x_hat)\n",
    "plt.title('Difference Between $x$ and $\\hat{x}$' + f' (RMSE = {noisy_A_noisy_D_RMSE:.4f})')\n",
    "plt.xlabel('Represented $x$ value')\n",
    "plt.ylabel('$x - \\hat{x}$')\n",
    "plt.grid(True)\n",
    "plt.tight_layout()\n",
    "plt.show()"
   ]
  },
  {
   "cell_type": "markdown",
   "metadata": {},
   "source": [
    "# 2. Decoding from two spiking neurons\n",
    "\n",
    "**a) Synaptic filter.** Plot the post-synaptic current\n",
    "\t\t$$\n",
    "\t\t\th(t)= \\begin{cases}\n",
    "\t\t\t\t0 & \\text{if } t < 0 \\,, \\\\\n",
    "\t\t\t\t\\frac{e^{-t/\\tau}}{\\int_0^\\infty e^{-t'/\\tau} \\mathrm{d}t'} & \\text{otherwise} \\,.\n",
    "\t\t\t\\end{cases}\n",
    "\t\t$$"
   ]
  },
  {
   "cell_type": "code",
   "execution_count": null,
   "metadata": {},
   "outputs": [],
   "source": [
    "tau = 5e-3  # [s]\n",
    "T = 0.05  # max time 0.1 seconds, appropriate amount of time for filter window, as h(t) ~= 0 beyond 0.1 seconds\n",
    "dt = 1e-3 # [s]\n",
    "filter_t = np.arange(0, T, dt)\n",
    "\n",
    "def h_n0(_time_vector, _tau):\n",
    "    return np.where(_time_vector >= 0, np.exp(-_time_vector / _tau) / _tau, 0)\n",
    "h_n0_t = h_n0(filter_t, tau)\n",
    "\n",
    "plt.figure(figsize=(8, 4))\n",
    "plt.plot(filter_t * 1000, h_n0_t)\n",
    "plt.title(r'$0^{th}$ order Exponential Low Pass Filter $h(t)$, $\\tau$ = ' + f'{tau * 1000:.0f} ms')\n",
    "plt.xlabel('$t$ [ms]')\n",
    "plt.ylabel('$h(t)$')\n",
    "plt.grid()\n",
    "plt.show()"
   ]
  },
  {
   "cell_type": "markdown",
   "metadata": {},
   "source": [
    "**b) Decoding using a synaptic filter.** Plot the original signal $x(t)$, the spikes, and the decoded $\\hat{x}(t)$ all on the same graph."
   ]
  },
  {
   "cell_type": "code",
   "execution_count": 463,
   "metadata": {},
   "outputs": [],
   "source": [
    "T = 1.0  # Total time [s]\n",
    "dt = 1e-3  # Time step [s]\n",
    "limit = 5\n",
    "rms = 1\n",
    "normalized_spike_voltage = 5.0 # arbitrarily chosen\n",
    "resting_voltage = 0.0 # [V]\n",
    "threshold_voltage = 1.0 # [V]\n",
    "\n",
    "index_of_zero = int(2 / dx)\n",
    "noisy_A_at_zero = noisy_A[:, index_of_zero]\n",
    "selected_neuron_index = np.where((noisy_A_at_zero >= 20) & (noisy_A_at_zero <= 50))[0]\n",
    "selected_alpha = alphas[selected_neuron_index][0][0]\n",
    "selected_j_bias = j_bias[selected_neuron_index][0][0]"
   ]
  },
  {
   "cell_type": "code",
   "execution_count": 464,
   "metadata": {},
   "outputs": [],
   "source": [
    "def generate_band_limited_white_noise(_T, _dt, _rms, _limit, _seed:int = 0):\n",
    "    np.random.seed(_seed)\n",
    "\n",
    "    _N = int(_T / _dt) # total # of samples\n",
    "    _t = np.arange(0, _T, _dt)\n",
    "\n",
    "    _w = 2 * np.pi * np.fft.fftfreq(_N, d=_dt) # units = [rad/s]\n",
    "    \n",
    "    # Create random values for the positive frequency components\n",
    "    _X_w_positive = np.random.randn(_N//2 + 1) + 1j * np.random.randn(_N//2 + 1)\n",
    "    \n",
    "    # Mirror values from positive to negative frequencies\n",
    "    _X_w = np.zeros(_N, dtype=complex)\n",
    "    _X_w[:_N//2 + 1] = _X_w_positive\n",
    "    _X_w[_N//2 + 1:] = np.conjugate(_X_w_positive[1:-1][::-1])\n",
    "\n",
    "    # Apply frequency limit by setting components above limit to zero\n",
    "    _X_w[np.abs(_w) > (2 * np.pi * _limit)] = 0\n",
    "    \n",
    "    _x_t = np.fft.ifft(_X_w).real\n",
    "\n",
    "    # Scale the signal to match the desired rms\n",
    "    _rms_correction_factor = _rms / np.sqrt(np.mean(_x_t**2))\n",
    "    _x_t *= _rms_correction_factor\n",
    "    _X_w = _rms_correction_factor * _X_w\n",
    "\n",
    "    return _t, _x_t, np.fft.fftshift(_w), np.fft.fftshift(_X_w)\n",
    "\n",
    "t, x_t, _, _ = generate_band_limited_white_noise(T, dt, rms, limit)"
   ]
  },
  {
   "cell_type": "code",
   "execution_count": 465,
   "metadata": {},
   "outputs": [],
   "source": [
    "def simulate_LIF_neuron(_x_t, _dt, _initial_state, _threshold_voltage, _normalized_spike_voltage, _tau_RC,  _e: list, _alpha: list, _j_bias: list):\n",
    "    def J(_x, _e, _alpha, _j_bias):\n",
    "        return _alpha * _e * _x + _j_bias # _x is a scalar\n",
    "    \n",
    "    _V_x_arr = []\n",
    "    assert len(_e) == len(_alpha)\n",
    "    assert len(_alpha) == len(_j_bias)\n",
    "\n",
    "    for i in range(len(_e)):\n",
    "        _V_x = []\n",
    "        for curr_x in _x_t:\n",
    "            if len(_V_x) == 0:\n",
    "                _V_x.append(_initial_state)\n",
    "                continue\n",
    "            elif _V_x[-1] < 0:\n",
    "                _V_x.append(0)\n",
    "                continue\n",
    "            elif _V_x[-1] < _threshold_voltage and _V_x[-1] >= 0:\n",
    "                _dv = _dt * (1 / _tau_RC) * (J(curr_x, _e[i], _alpha[i], _j_bias[i]) - _V_x[-1]) \n",
    "            elif _V_x[-1] >= _threshold_voltage and _V_x[-1] < _normalized_spike_voltage:\n",
    "                _dv = _normalized_spike_voltage - _V_x[-1]\n",
    "            else:\n",
    "                _dv = -_normalized_spike_voltage\n",
    "            _V_x.append(_V_x[-1] + _dv)\n",
    "        _V_x_arr.append(_V_x)\n",
    "    return np.array(_V_x_arr)\n",
    "\n",
    "def filter_signal(_signal):\n",
    "    filtered_signal = np.zeros(len(_signal))\n",
    "    \n",
    "    # Loop through the signal and apply the filter h(t) at each spike location\n",
    "    for i, curr_signal in enumerate(_signal):\n",
    "        if curr_signal == normalized_spike_voltage:\n",
    "            if i + len(h_n0_t) <= len(_signal):\n",
    "                filtered_signal[i:i+len(h_n0_t)] += h_n0_t\n",
    "            else: # Handle case when spike occurs near the end, trim h_n0_t accordingly\n",
    "                filtered_signal[i:] += h_n0_t[:len(_signal) - i]\n",
    "    \n",
    "    return filtered_signal"
   ]
  },
  {
   "cell_type": "code",
   "execution_count": null,
   "metadata": {},
   "outputs": [],
   "source": [
    "V_x_band_limited_white_noise_input_positive_e = simulate_LIF_neuron(x_t, dt, resting_voltage, threshold_voltage, normalized_spike_voltage, tau_RC, [1], [selected_alpha], [selected_j_bias])[0]\n",
    "V_x_band_limited_white_noise_input_negative_e = simulate_LIF_neuron(x_t, dt, resting_voltage, threshold_voltage, normalized_spike_voltage, tau_RC, [-1], [selected_alpha], [selected_j_bias])[0]\n",
    "filtered_spikes = np.array([filter_signal(V_x_band_limited_white_noise_input_positive_e), filter_signal(V_x_band_limited_white_noise_input_negative_e)])\n",
    "D = np.array(np.linalg.lstsq(filtered_spikes.T, x_t, rcond=None)[0])\n",
    "x_hat_t = filtered_spikes.T @ D\n",
    "\n",
    "fig, axs = plt.subplots(2, 1, figsize=(10, 8))\n",
    "\n",
    "axs[0].plot(t, V_x_band_limited_white_noise_input_positive_e, color='b', label='e = 1', linewidth='1')\n",
    "axs[0].plot(t, V_x_band_limited_white_noise_input_negative_e, color='r', label='e = -1', linewidth='1')\n",
    "axs[0].set_title('LIF Neuron Output (white noise input, e = 1)')\n",
    "axs[0].set_xlabel('$t$ [s]')\n",
    "axs[0].set_ylabel('membrane potential [V]')\n",
    "axs[0].legend()\n",
    "axs[0].grid(True)\n",
    "\n",
    "axs[1].plot(t, x_t, color='r', label='x', linewidth='1')\n",
    "axs[1].plot(t, x_hat_t, color='b', label='$\\hat{x}$', linewidth='1')\n",
    "axs[1].set_title('Original $x$ and Decoded $\\hat{x}$')\n",
    "axs[1].set_xlabel('$t$ [s]')\n",
    "axs[1].set_ylabel('$x(t)$')\n",
    "axs[1].grid(True)\n",
    "axs[1].legend()\n",
    "\n",
    "plt.tight_layout()\n",
    "plt.show()"
   ]
  },
  {
   "cell_type": "markdown",
   "metadata": {},
   "source": [
    "**c) Error analysis.** Compute the RMSE of the decoding."
   ]
  },
  {
   "cell_type": "code",
   "execution_count": null,
   "metadata": {},
   "outputs": [],
   "source": [
    "x_hat_t_RMSE = rmse(x_t, x_hat_t)\n",
    "print(x_hat_t_RMSE)"
   ]
  },
  {
   "cell_type": "markdown",
   "metadata": {},
   "source": [
    "# 3. Decoding from many neurons\n",
    "\n",
    "**a) Exploring the error for an increasing neuron count.** Plot the Root Mean-Squared Error as the number of neurons increases, on a log-log plot. Try $8$ neurons, $16$ neurons, $32$, $64$, $128$, up to $256$. For the RMSE for a particular number of neurons, average over at least $5$ randomly generated groups of neurons. For each group of neurons, randomly generate the signal $x(t)$. Use the same parameters as in question 2."
   ]
  },
  {
   "cell_type": "code",
   "execution_count": null,
   "metadata": {},
   "outputs": [],
   "source": [
    "n_arr = [2**i for i in range(3, 11)]\n",
    "num_of_runs = 5\n",
    "\n",
    "RMSE_n = []\n",
    "\n",
    "for curr_n in n_arr:\n",
    "    RMSE_avg = []\n",
    "\n",
    "    for i in range(num_of_runs):\n",
    "        T = 1.0  # Total time [s]\n",
    "        dt = 1e-3  # Time step [s]\n",
    "        limit = 5\n",
    "        rms = 1\n",
    "        _, x_t, _, _ = generate_band_limited_white_noise(T, dt, rms, limit, _seed=(i+42))\n",
    "\n",
    "        maximum_firing_rates = np.random.uniform(100, 200, size=(curr_n, 1))\n",
    "        x_intercepts = np.random.uniform(-2, 2, size=(curr_n, 1)) \n",
    "        encoders = np.random.choice([1, -1], size=(curr_n, 1))\n",
    "\n",
    "        alphas = (- 1.0 + (1.0 / (1.0 - np.exp((1.0 / tau_RC) * (tau_ref - (1.0 / maximum_firing_rates)))))) / (1.0 - x_intercepts)\n",
    "        j_bias = (1.0 - (x_intercepts / (1.0 - np.exp((1.0 / tau_RC) * (tau_ref - (1.0 / maximum_firing_rates)))))) / (1.0 - x_intercepts)\n",
    "\n",
    "        V_x_band_limited_white_noise_input = simulate_LIF_neuron(x_t, dt, resting_voltage, threshold_voltage, normalized_spike_voltage, tau_RC, encoders.reshape(-1), alphas.reshape(-1), j_bias.reshape(-1))\n",
    "        D = np.array(np.linalg.lstsq(V_x_band_limited_white_noise_input.T, x_t, rcond=None)[0])\n",
    "        x_hat_t = V_x_band_limited_white_noise_input.T @ D\n",
    "        x_hat_t_RMSE = rmse(x_t, x_hat_t)\n",
    "        RMSE_avg.append(x_hat_t_RMSE)\n",
    "\n",
    "    RMSE_avg = sum(RMSE_avg) / len(RMSE_avg)\n",
    "    RMSE_n.append(RMSE_avg)\n",
    "\n",
    "plt.figure(figsize=(10, 8))\n",
    "plt.loglog(n_arr, RMSE_n)\n",
    "plt.title('RMSE of Spiking Neurons vs Number of Neurons')\n",
    "plt.xlabel('Number of neurons $n$')\n",
    "plt.ylabel('RMSE (Averaged across 5 trials)')\n",
    "plt.grid(True)\n",
    "plt.show()"
   ]
  },
  {
   "cell_type": "markdown",
   "metadata": {},
   "source": [
    "**b) Discussion.** Discuss your results. What is the systematic relationship between the neuron count and the error?"
   ]
  },
  {
   "cell_type": "markdown",
   "metadata": {},
   "source": [
    "From the plot above, it appears that as the neuron count increases, the error (characterized by the RMSE metric) decreases. This makes intuitive sense because having a higher number of neurons with various parameters of alpha, e (encoder), and j_bias allows for a more accurate approximation of the original signal since it provides the neural population with more 'weights' to control to be able to better decode the original signal."
   ]
  },
  {
   "cell_type": "markdown",
   "metadata": {},
   "source": [
    "# 4. Connecting two groups of neurons\n",
    "\n",
    "**a) Computing a function.** Show the behaviour of the system with an input of $x(t)=t-1$ for $1\\,\\mathrm{s}$ (a linear ramp from $-1$ to $0$). Plot the ideal $x(t)$ and $y(t)$ values, along with $\\hat{y}(t)$."
   ]
  },
  {
   "cell_type": "code",
   "execution_count": null,
   "metadata": {},
   "outputs": [],
   "source": [
    "n = 200 # number of neurons\n",
    "dx = 0.1  # Example step size\n",
    "x = np.arange(-1, 1, dx)\n",
    "tau_ref = 2.0e-3    \n",
    "tau_RC = 20.0e-3\n",
    "\n",
    "maximum_firing_rates = np.random.uniform(100, 200, size=(n, 1))\n",
    "x_intercepts = np.random.uniform(-1, 1, size=(n, 1))\n",
    "encoders = np.random.choice([1, -1], size=(n, 1))\n",
    "\n",
    "def G(_J: np.ndarray):\n",
    "    _J[_J > 1] = 1.0 / (tau_ref - tau_RC * np.log(1 - (1/_J[_J > 1])))\n",
    "    _J[_J <= 1] = 0\n",
    "    return _J\n",
    "\n",
    "alphas = (- 1.0 + (1.0 / (1.0 - np.exp((1.0 / tau_RC) * (tau_ref - (1.0 / maximum_firing_rates)))))) / (1.0 - x_intercepts)\n",
    "j_bias = (1.0 - (x_intercepts / (1.0 - np.exp((1.0 / tau_RC) * (tau_ref - (1.0 / maximum_firing_rates)))))) / (1.0 - x_intercepts)\n",
    "A = G(alphas * encoders @ x.reshape(1, len(x)) + j_bias)\n",
    "\n",
    "for i in range(n):\n",
    "    plt.plot(x, A[i, :], label=f'Neuron {i+1}')\n",
    "\n",
    "plt.title(f\"Neuron tuning curves of {n} Neurons\")\n",
    "plt.xlabel('x')\n",
    "plt.ylabel('$a_{i}(x)$ [Hz]')\n",
    "\n",
    "plt.legend(loc='upper left', bbox_to_anchor=(1, 1))\n",
    "plt.show()"
   ]
  },
  {
   "cell_type": "markdown",
   "metadata": {},
   "source": [
    "**b) Step input.** Repeat part (a) with an input that is ten randomly chosen values between -1 and 0, each one held for 0.1 seconds (a randomly varying step input)"
   ]
  },
  {
   "cell_type": "code",
   "execution_count": 453,
   "metadata": {},
   "outputs": [],
   "source": [
    "# ✍ <YOUR SOLUTION HERE>"
   ]
  },
  {
   "cell_type": "markdown",
   "metadata": {},
   "source": [
    "**c) Sinusoidal input.** Repeat part (a) with an input that is $x(t)=0.2\\sin(6\\pi t)$."
   ]
  },
  {
   "cell_type": "code",
   "execution_count": 454,
   "metadata": {},
   "outputs": [],
   "source": [
    "# ✍ <YOUR SOLUTION HERE>"
   ]
  },
  {
   "cell_type": "markdown",
   "metadata": {},
   "source": [
    "**d) Discussion.** Briefly discuss the results for this question. Does the output match the ideal output? What kind of deviations do you see and why do those exist?"
   ]
  },
  {
   "cell_type": "markdown",
   "metadata": {},
   "source": [
    "✍ \\<YOUR SOLUTION HERE\\>"
   ]
  },
  {
   "cell_type": "markdown",
   "metadata": {},
   "source": [
    "# 5. Connecting three groups of neurons\n",
    "\n",
    "**a) Sinusoidal input.** Plot $x(t)$, $y(t)$, the ideal $z(t)$, and the decoded $\\hat{z}(t)$ for an input of $x(t)=\\cos(3\\pi t)$ and $y(t)=0.5 \\sin (2 \\pi t)$ (over $1\\,\\mathrm{s}$)."
   ]
  },
  {
   "cell_type": "code",
   "execution_count": 455,
   "metadata": {},
   "outputs": [],
   "source": [
    "# ✍ <YOUR SOLUTION HERE>"
   ]
  },
  {
   "cell_type": "markdown",
   "metadata": {},
   "source": [
    "**b) Random input.** Plot $x(t)$, $y(t)$, the ideal $z(t)$, and the decoded $\\hat{z}(t)$ for a random input over $1\\,\\mathrm{s}$. For $x(t)$ use a random signal with a limit of $8\\,\\mathrm{Hz}$ and $\\mathtt{rms}=1$. For $y(t)$ use a random signal with a limit of $5\\,\\mathrm{Hz}$ and $\\mathtt{rms}=0.5$."
   ]
  },
  {
   "cell_type": "code",
   "execution_count": 456,
   "metadata": {},
   "outputs": [],
   "source": [
    "# ✍ <YOUR SOLUTION HERE>"
   ]
  },
  {
   "cell_type": "markdown",
   "metadata": {},
   "source": [
    "# 6. Computing with vectors\n",
    "\n",
    "**a) Constant inputs.** Plot the decoded output $\\hat{w}(t)$ and the ideal $w$ for\n",
    "\t\t$$x =(0.5,1), \\quad y = (0.1,0.3), \\quad z =(0.2,0.1), \\quad q = (0.4,-0.2) \\,.$$"
   ]
  },
  {
   "cell_type": "code",
   "execution_count": 457,
   "metadata": {},
   "outputs": [],
   "source": [
    "# ✍ <YOUR SOLUTION HERE>"
   ]
  },
  {
   "cell_type": "markdown",
   "metadata": {},
   "source": [
    "**b) Sinusoidal input.** Produce the same plot for\n",
    "$$x =(0.5,1), \\quad y = (\\sin(4\\pi t),0.3), \\quad z =(0.2,0.1), \\quad q = (\\sin(4\\pi t),-0.2) \\,.$$"
   ]
  },
  {
   "cell_type": "code",
   "execution_count": 458,
   "metadata": {},
   "outputs": [],
   "source": [
    "# ✍ <YOUR SOLUTION HERE>"
   ]
  },
  {
   "cell_type": "markdown",
   "metadata": {},
   "source": [
    "**c) Discussion.** Describe your results and discuss why and how they stray from the expected answer."
   ]
  },
  {
   "cell_type": "markdown",
   "metadata": {},
   "source": [
    "✍ \\<YOUR SOLUTION HERE\\>"
   ]
  }
 ],
 "metadata": {
  "kernelspec": {
   "display_name": "syde556",
   "language": "python",
   "name": "python3"
  },
  "language_info": {
   "codemirror_mode": {
    "name": "ipython",
    "version": 3
   },
   "file_extension": ".py",
   "mimetype": "text/x-python",
   "name": "python",
   "nbconvert_exporter": "python",
   "pygments_lexer": "ipython3",
   "version": "3.8.20"
  }
 },
 "nbformat": 4,
 "nbformat_minor": 4
}
