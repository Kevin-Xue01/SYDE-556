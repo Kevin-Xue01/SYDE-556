{
 "cells": [
  {
   "cell_type": "markdown",
   "metadata": {},
   "source": [
    "# SYDE 556/750 --- Assignment 2\n",
    "**Student ID: 20814292**\n",
    "\n",
    "*Note:* Please include your numerical student ID only, do *not* include your name.\n",
    "\n",
    "*Note:* Refer to the [PDF](https://github.com/celiasmith/syde556-f22/raw/master/assignments/assignment_02/syde556_assignment_02.pdf) for the full instructions (including some hints), this notebook contains abbreviated instructions only. Cells you need to fill out are marked with a \"writing hand\" symbol. Of course, you can add new cells in between the instructions, but please leave the instructions intact to facilitate marking."
   ]
  },
  {
   "cell_type": "code",
   "execution_count": 1,
   "metadata": {},
   "outputs": [],
   "source": [
    "# Import numpy and matplotlib -- you shouldn't need any other libraries\n",
    "import numpy as np\n",
    "import matplotlib.pyplot as plt\n",
    "\n",
    "# Fix the numpy random seed for reproducible results\n",
    "np.random.seed(18945)\n",
    "\n",
    "# Some formating options\n",
    "%config InlineBackend.figure_formats = ['svg']"
   ]
  },
  {
   "cell_type": "markdown",
   "metadata": {},
   "source": [
    "# 1. Generating a random input signal\n",
    "\n",
    "## 1.1 Band-limited white noise\n",
    "\n",
    "**a) Time-domain signals.** Plot $x(t)$ for three randomly generated signals with $\\texttt{limit}$ at $5$, $10$, and $20\\,\\mathrm{Hz}$. For each of these, $\\mathtt{T}=1\\,\\mathrm{s}$, $\\mathtt{dt}=1\\,\\mathrm{ms}$ and $\\mathtt{rms}=0.5$."
   ]
  },
  {
   "cell_type": "code",
   "execution_count": null,
   "metadata": {},
   "outputs": [],
   "source": [
    "def generate_band_limited_white_noise(T, dt, rms, limit, seed:int = 0):\n",
    "    np.random.seed(seed)\n",
    "\n",
    "    N = int(T / dt) # total # of samples\n",
    "    t = np.arange(0, T, dt)\n",
    "\n",
    "    w = 2 * np.pi * np.fft.fftfreq(N, d=dt) # units = [rad/s]\n",
    "    \n",
    "    # Create random values for the positive frequency components\n",
    "    X_w_positive = np.random.randn(N//2 + 1) + 1j * np.random.randn(N//2 + 1)\n",
    "    \n",
    "    # Mirror values from positive to negative frequencies\n",
    "    X_w = np.zeros(N, dtype=complex)\n",
    "    X_w[:N//2 + 1] = X_w_positive\n",
    "    X_w[N//2 + 1:] = np.conjugate(X_w_positive[1:-1][::-1])\n",
    "\n",
    "    # Apply frequency limit by setting components above limit to zero\n",
    "    X_w[np.abs(w) > (2 * np.pi * limit)] = 0\n",
    "    \n",
    "    x_t = np.fft.ifft(X_w).real\n",
    "\n",
    "    # Scale the signal to match the desired RMS\n",
    "    rms_correction_factor = rms / np.sqrt(np.mean(x_t**2))\n",
    "    x_t *= rms_correction_factor\n",
    "    X_w = rms_correction_factor * X_w\n",
    "\n",
    "    return t, x_t, np.fft.fftshift(w), np.fft.fftshift(X_w)\n",
    "\n",
    "T = 1.0  # Total time [s]\n",
    "dt = 0.001  # Time step [s]\n",
    "limits = [5,10,20]\n",
    "rms = 0.5\n",
    "\n",
    "plt.figure(figsize=(10, 6))\n",
    "\n",
    "for limit in limits:\n",
    "    t, x_t, _, _ = generate_band_limited_white_noise(T, dt, rms, limit)\n",
    "\n",
    "    plt.plot(t, x_t, label=f'Band limit: {limit} Hz')\n",
    "    plt.title('Band Limited White Noise With Different Limits')\n",
    "    plt.xlabel('$t$ [s]')\n",
    "    plt.ylabel('$x(t)$')\n",
    "    plt.legend()\n",
    "    plt.grid(True)\n",
    "\n",
    "plt.tight_layout()\n",
    "plt.show()"
   ]
  },
  {
   "cell_type": "markdown",
   "metadata": {},
   "source": [
    "**b) Average power spectrum.** Plot the average $|X(\\omega)|$ (the norm of the Fourier coefficients, or “power spectrum”) over $100$ signals generated with $\\mathtt{T}=1\\,\\mathrm{s}$, $\\mathtt{dt}=1\\,\\mathrm{ms}$, $\\mathtt{rms}=0.5$, and $\\mathtt{limit}=10\\,\\mathrm{Hz}$ (of course, each of these 100 signals should have a different `seed`). The plot should have the $x$-axis labeled “$\\omega$ in radians” and the average $|X|$ value for that $\\omega$ on the $y$-axis."
   ]
  },
  {
   "cell_type": "code",
   "execution_count": null,
   "metadata": {},
   "outputs": [],
   "source": [
    "N_signals = 100 # number of signals to average\n",
    "T = 1.0\n",
    "dt = 0.001\n",
    "rms = 0.5\n",
    "limit = 10\n",
    "\n",
    "X_w_magnitude_avg = []\n",
    "for i in range(N_signals):\n",
    "    _, _, w, X_w = generate_band_limited_white_noise(T, dt, rms, limit, seed=i)\n",
    "    X_w_magnitude_avg.append(np.abs(X_w))\n",
    "X_w_magnitude_avg = np.mean(np.array(X_w_magnitude_avg), axis=0)\n",
    "\n",
    "plt.plot(w, X_w_magnitude_avg, label=f'Limit = {limit} Hz')\n",
    "plt.xlim(-3 * np.pi * limit, 3 * np.pi * limit) # limit domain for better plotting\n",
    "plt.title(f'Magnitude Plot for Band Limited White Noise (averaged across 100 signals, limit = {limit} Hz)')\n",
    "plt.xlabel('$\\omega$ (rad/s)')\n",
    "plt.ylabel(r'$|\\overline{X(\\omega)}|$')\n",
    "plt.legend()\n",
    "plt.grid(True)\n",
    "plt.tight_layout()\n",
    "plt.show()"
   ]
  },
  {
   "cell_type": "markdown",
   "metadata": {},
   "source": [
    "## 1.2 Gaussian power spectrum noise"
   ]
  },
  {
   "cell_type": "markdown",
   "metadata": {},
   "source": [
    "**a) Time-domain signals.** Plot $x(t)$ for three randomly generated signals with `bandwidth` at $5$, $10$, and $20\\,\\mathrm{Hz}$. For each of these, $\\mathtt{T}=1\\,\\mathrm{s}$, $\\mathtt{dt}=1\\,\\mathrm{ms}$ and $\\mathtt{rms}=0.5$."
   ]
  },
  {
   "cell_type": "code",
   "execution_count": null,
   "metadata": {},
   "outputs": [],
   "source": [
    "def generate_gaussian_power_spectrum_noise(T, dt, rms, bandwidth, seed=0):\n",
    "    np.random.seed(seed)\n",
    "\n",
    "    N = int(T / dt)  # Total number of samples\n",
    "    t = np.arange(0, T, dt)\n",
    "\n",
    "    w = 2 * np.pi * np.fft.fftfreq(N, d=dt)\n",
    "\n",
    "    # Create frequency-dependent standard deviation based on bandwidth\n",
    "    sigma = np.exp(-w**2 / (2 * (2 * np.pi * bandwidth)**2))\n",
    "\n",
    "    # Create random values for the positive frequency components\n",
    "    X_w_positive = np.random.randn(N//2 + 1) + 1j * np.random.randn(N//2 + 1)\n",
    "    \n",
    "    # Scale the standard normal distribution by sigma\n",
    "    X_w_positive *= sigma[:N//2 + 1]\n",
    "\n",
    "    # Mirror values from positive to negative frequencies\n",
    "    X_w = np.zeros(N, dtype=complex)\n",
    "    X_w[:N//2 + 1] = X_w_positive\n",
    "    X_w[N//2 + 1:] = np.conjugate(X_w_positive[1:-1][::-1])\n",
    "\n",
    "    # Convert back to time domain using inverse FFT\n",
    "    x_t = np.fft.ifft(X_w).real\n",
    "\n",
    "    # Scale the signal to match the desired RMS\n",
    "    rms_correction_factor = rms / np.sqrt(np.mean(x_t**2))\n",
    "    x_t *= rms_correction_factor\n",
    "    X_w = rms_correction_factor * X_w\n",
    "\n",
    "    return t, x_t, np.fft.fftshift(w), np.fft.fftshift(X_w)\n",
    "\n",
    "bandwidths = [5, 10, 20]\n",
    "T = 1.0\n",
    "dt = 0.001\n",
    "rms = 0.5\n",
    "\n",
    "for bandwidth in bandwidths:\n",
    "    t, x_t, _, _ = generate_gaussian_power_spectrum_noise(T, dt, rms, bandwidth)\n",
    "    \n",
    "    plt.plot(t, x_t, label=f'Bandwidth: {bandwidth} Hz')\n",
    "    plt.title('Gaussian Power Spectrum Noise Signals With Different Bandwidths')\n",
    "    plt.xlabel('$t$ [s]')\n",
    "    plt.ylabel('$x(t)$')\n",
    "    plt.legend()\n",
    "    plt.grid(True)\n",
    "\n",
    "plt.tight_layout()\n",
    "plt.show()"
   ]
  },
  {
   "cell_type": "markdown",
   "metadata": {},
   "source": [
    "**b) Average power spectrum.** Plot the average $|X(\\omega)|$ (the norm of the Fourier coefficients, or “power spectrum”) over $100$ signals generated with $\\mathtt{T}=1\\,\\mathrm{s}$, $\\mathtt{dt}=1\\,\\mathrm{ms}$, $\\mathtt{rms}=0.5$, and $\\mathtt{bandwidth}=10$ (of course, each of these 100 signals should have a different `seed`). The plot should have the $x$-axis labeled “$\\omega$ in radians” and the average $|X|$ value for that $\\omega$ on the $y$-axis."
   ]
  },
  {
   "cell_type": "code",
   "execution_count": null,
   "metadata": {},
   "outputs": [],
   "source": [
    "N_signals = 100\n",
    "T = 1.0 # [s]\n",
    "dt = 0.001 # [s]\n",
    "rms = 0.5\n",
    "bandwidth = 10 # [Hz]\n",
    "\n",
    "X_w_magnitude_avg = []\n",
    "for i in range(N_signals):\n",
    "    _, _, w, X_w = generate_gaussian_power_spectrum_noise(T, dt, rms, bandwidth, seed=i)\n",
    "    X_w_magnitude_avg.append(np.abs(X_w))\n",
    "X_w_magnitude_avg = np.mean(np.array(X_w_magnitude_avg), axis=0)\n",
    "\n",
    "plt.plot(w, X_w_magnitude_avg)\n",
    "plt.xlim(-6 * np.pi * bandwidth, 6 * np.pi * bandwidth) # limit domain for better plotting\n",
    "plt.title(f'Magnitude Plot for Gaussian Power Spectrum Noise (averaged across 100 signals, bandwidth = {bandwidth} Hz)')\n",
    "plt.xlabel('$\\omega$ (rad/s)')\n",
    "plt.ylabel(r'$|\\overline{X(\\omega)}|$')\n",
    "plt.grid(True)\n",
    "\n",
    "plt.tight_layout()\n",
    "plt.show()"
   ]
  },
  {
   "cell_type": "markdown",
   "metadata": {},
   "source": [
    "# 2. Simulating a spiking neuron\n",
    "\n",
    "**a) Spike plots for constant inputs.** Plot the spike output for a constant input of $x=0$ over $1$ second. Report the number of spikes. Do the same thing for $x=1$. Use a time step of $\\Delta t = 1\\,\\mathrm{ms}$ for the simulation."
   ]
  },
  {
   "cell_type": "code",
   "execution_count": 6,
   "metadata": {},
   "outputs": [],
   "source": [
    "normalized_spike_voltage = 5.0 # arbitrarily chosen\n",
    "resting_voltage = 0.0 # [V]\n",
    "threshold_voltage = 1.0 # [V]\n",
    "tau_RC = 0.02 # [s]\n",
    "tau_ref = 0.002 # [s]\n",
    "j_bias = 1.463350609\n",
    "alpha = 3.3417905\n",
    "\n",
    "def J(x, _e):\n",
    "    return alpha * _e * x + j_bias # x is a scalar\n",
    "\n",
    "def simulate_LIF_neuron(x_t, _e, initial_state=resting_voltage):\n",
    "    V_x = []\n",
    "\n",
    "    for curr_x in x_t:\n",
    "        if len(V_x) == 0:\n",
    "            V_x.append(initial_state)\n",
    "            continue\n",
    "        elif V_x[-1] < 0:\n",
    "            V_x.append(0)\n",
    "            continue\n",
    "        elif V_x[-1] < threshold_voltage and V_x[-1] >= 0:\n",
    "            dv = dt * (1 / tau_RC) * (J(curr_x, _e) - V_x[-1]) \n",
    "        elif V_x[-1] >= threshold_voltage and V_x[-1] < normalized_spike_voltage:\n",
    "            dv = normalized_spike_voltage - V_x[-1]\n",
    "        else:\n",
    "            dv = -normalized_spike_voltage\n",
    "        V_x.append(V_x[-1] + dv)\n",
    "    return np.array(V_x)"
   ]
  },
  {
   "cell_type": "code",
   "execution_count": null,
   "metadata": {},
   "outputs": [],
   "source": [
    "T = 1.0\n",
    "dt = 0.001\n",
    "N = int(T / dt)\n",
    "t = np.arange(0, T, dt)\n",
    "\n",
    "V_x_0 = simulate_LIF_neuron(np.zeros(N), 1)\n",
    "V_x_1 = simulate_LIF_neuron(np.ones(N), 1)\n",
    "\n",
    "fig, (ax1, ax2) = plt.subplots(2, 1, figsize=(10, 10))\n",
    "\n",
    "ax1.plot(t, V_x_0)\n",
    "ax1.set_xlabel('$t$ [s]')\n",
    "ax1.set_ylabel('membrane potential [V]')\n",
    "ax1.set_title('LIF Neuron Model Output for $x(t)=0$')\n",
    "ax1.grid(True)\n",
    "\n",
    "ax2.plot(t, V_x_1)\n",
    "ax2.set_xlabel('$t$ [s]')\n",
    "ax2.set_ylabel('membrane potential [V]')\n",
    "ax2.set_title('LIF Neuron Model Output for $x(t)=1$')\n",
    "ax2.grid(True)\n",
    "\n",
    "plt.tight_layout()\n",
    "plt.show()"
   ]
  },
  {
   "cell_type": "markdown",
   "metadata": {},
   "source": [
    "**b) Discussion.** Does the observed number of spikes in the previous part match the expected number of spikes for $x=0$ and $x=1$? Why or why not? What aspects of the simulation would affect this accuracy?"
   ]
  },
  {
   "cell_type": "markdown",
   "metadata": {},
   "source": [
    "For x = 0, the observed number of spikes (40), matched the expected number of spikes (40). For x = 1, the observed number of spikes (142), did not match the expected number of spikes (150). The discrepancy between the observed and the expected number of spikes can be attributed to multiple factors:\n",
    "1. Local truncation error (due to linear approximation error from Euler's method). This error is proportional to dt^2\n",
    "2. Global truncation error (due to accumulation of local truncation error across all time steps). This error is proportional to dt\n",
    "3. Floating point arithmetic error"
   ]
  },
  {
   "cell_type": "markdown",
   "metadata": {},
   "source": [
    "**c) Spike plots for white noise inputs.** Plot the spike output for $x(t)$ generated using your function from part 1.1. Use $\\mathtt{T}=1\\,\\mathrm{s}$, $\\mathtt{dt}=1\\,\\mathrm{ms}$, $\\mathtt{rms}=0.5$, and $\\mathtt{limit}=30\\,\\mathrm{Hz}$. Overlay on this plot $x(t)$."
   ]
  },
  {
   "cell_type": "code",
   "execution_count": null,
   "metadata": {},
   "outputs": [],
   "source": [
    "T = 1.0\n",
    "dt = 0.001\n",
    "limit = 30\n",
    "rms = 0.5\n",
    "\n",
    "t, x_t, _, _ = generate_band_limited_white_noise(T, dt, rms, limit)\n",
    "V_x_band_limited_white_noise = simulate_LIF_neuron(x_t, 1)\n",
    "\n",
    "fig, ax1 = plt.subplots(figsize=(10, 6))\n",
    "\n",
    "ax1.plot(t, x_t, color='b')\n",
    "ax1.set_xlabel('$t$ [s]')\n",
    "ax1.set_ylabel('$x(t)$', color='b')\n",
    "ax1.tick_params(axis='y', labelcolor='b')\n",
    "ax1.grid(True)\n",
    "\n",
    "# Create a secondary axis on the right y-axis for the LIF membrane potential\n",
    "ax2 = ax1.twinx()\n",
    "ax2.plot(t, V_x_band_limited_white_noise, color='g')\n",
    "ax2.set_ylabel('membrane potential [V]', color='g')\n",
    "ax2.tick_params(axis='y', labelcolor='g')\n",
    "\n",
    "# Set the same y-limits for both axes\n",
    "y_min = min(min(x_t), min(V_x_band_limited_white_noise))\n",
    "y_max = max(max(x_t), max(V_x_band_limited_white_noise))\n",
    "ax1.set_ylim([y_min - 1, y_max + 1])\n",
    "ax2.set_ylim([y_min - 1, y_max + 1])\n",
    "\n",
    "plt.title(f'LIF Neuron Model Output for Band-Limited White Noise Input (limit = {limit} Hz)')\n",
    "fig.tight_layout()\n",
    "plt.show()"
   ]
  },
  {
   "cell_type": "markdown",
   "metadata": {},
   "source": [
    "**d) Voltage over time.** Using the same $x(t)$ signal as in part *c)*, plot the neuron's voltage over time for the first $0.2$ seconds, along with the spikes over the same time."
   ]
  },
  {
   "cell_type": "code",
   "execution_count": null,
   "metadata": {},
   "outputs": [],
   "source": [
    "fig, ax1 = plt.subplots(figsize=(10, 6))\n",
    "\n",
    "ax1.plot(t, x_t, color='b')\n",
    "ax1.set_xlabel('$t$ [s]')\n",
    "ax1.set_ylabel('$x(t)$', color='b')\n",
    "ax1.tick_params(axis='y', labelcolor='b')\n",
    "ax1.set_xlim([0, 0.2])\n",
    "ax1.grid(True)\n",
    "\n",
    "# Create a secondary axis on the right y-axis for the LIF membrane potential\n",
    "ax2 = ax1.twinx()\n",
    "ax2.plot(t, V_x_band_limited_white_noise, color='g')\n",
    "ax2.set_ylabel('membrane potential [V]', color='g')\n",
    "ax2.tick_params(axis='y', labelcolor='g')\n",
    "\n",
    "# Set the same y-limits for both axes\n",
    "y_min = min(min(x_t), min(V_x_band_limited_white_noise))\n",
    "y_max = max(max(x_t), max(V_x_band_limited_white_noise))\n",
    "ax1.set_ylim([y_min - 1, y_max + 1])\n",
    "ax2.set_ylim([y_min - 1, y_max + 1])\n",
    "\n",
    "plt.title(f'LIF Neuron Output for Band-Limited White Noise Input (limit = {limit} Hz)')\n",
    "fig.tight_layout()\n",
    "plt.show()"
   ]
  },
  {
   "cell_type": "markdown",
   "metadata": {},
   "source": [
    "**e) 🌟 Bonus question.** How could you improve this simulation (in terms of how closely the model matches actual equation) without significantly increasing the computation time? $0.5$ marks for having a good idea. Up to $1$ mark for actually implementing it and showing that it works."
   ]
  },
  {
   "cell_type": "markdown",
   "metadata": {},
   "source": [
    "The simulation can be improved by using a higher-order integration method such as the Runge-Kutta method (RK4), in which the local truncation error is proportional to dt^5, and the global truncation error is proportional to dt^4."
   ]
  },
  {
   "cell_type": "code",
   "execution_count": 10,
   "metadata": {},
   "outputs": [],
   "source": [
    "def simulate_LIF_neuron_RK4(x_t, _e, initial_state=resting_voltage):\n",
    "    V_x = []\n",
    "\n",
    "    for curr_input in x_t:\n",
    "        if len(V_x) == 0:\n",
    "            V_x.append(initial_state)\n",
    "            continue\n",
    "        elif V_x[-1] < 0:\n",
    "            V_x.append(0)\n",
    "            continue\n",
    "        elif V_x[-1] < threshold_voltage and V_x[-1] >= 0:\n",
    "            def dv_dt(v, J):\n",
    "                return (J - v) / tau_RC\n",
    "            \n",
    "            k1 = dv_dt(V_x[-1], J(curr_input, _e))\n",
    "            k2 = dv_dt(V_x[-1] + 0.5 * dt * k1, J(curr_input, _e))\n",
    "            k3 = dv_dt(V_x[-1] + 0.5 * dt * k2, J(curr_input, _e))\n",
    "            k4 = dv_dt(V_x[-1] + dt * k3, J(curr_input, _e))\n",
    "            dv = (dt / 6.0) * (k1 + 2 * k2 + 2 * k3 + k4)\n",
    "        elif V_x[-1] >= threshold_voltage and V_x[-1] < normalized_spike_voltage:\n",
    "            dv = normalized_spike_voltage - V_x[-1]\n",
    "        else:\n",
    "            dv = -normalized_spike_voltage\n",
    "        V_x.append(V_x[-1] + dv)\n",
    "    return np.array(V_x)"
   ]
  },
  {
   "cell_type": "code",
   "execution_count": null,
   "metadata": {},
   "outputs": [],
   "source": [
    "T = 1.0\n",
    "dt = 0.001\n",
    "limit = 30\n",
    "rms = 0.5\n",
    "\n",
    "t, x_t, _, _ = generate_band_limited_white_noise(T, dt, rms, limit)\n",
    "V_x_band_limited_white_noise_RK4 = simulate_LIF_neuron_RK4(x_t, 1)\n",
    "\n",
    "fig, ax1 = plt.subplots(figsize=(10, 6))\n",
    "\n",
    "ax1.plot(t, x_t, color='b')\n",
    "ax1.set_xlabel('$t$ [s]')\n",
    "ax1.set_ylabel('$x(t)$', color='b')\n",
    "ax1.tick_params(axis='y', labelcolor='b')\n",
    "ax1.set_xlim([0, 0.2])\n",
    "ax1.grid(True)\n",
    "\n",
    "# Create a secondary axis on the right y-axis for the LIF membrane potential\n",
    "ax2 = ax1.twinx()\n",
    "ax2.plot(t, V_x_band_limited_white_noise_RK4, color='g')\n",
    "ax2.set_ylabel('membrane potential [V]', color='g')\n",
    "ax2.tick_params(axis='y', labelcolor='g')\n",
    "\n",
    "# Set the same y-limits for both axes\n",
    "y_min = min(min(x_t), min(V_x_band_limited_white_noise_RK4))\n",
    "y_max = max(max(x_t), max(V_x_band_limited_white_noise_RK4))\n",
    "ax1.set_ylim([y_min - 1, y_max + 1])\n",
    "ax2.set_ylim([y_min - 1, y_max + 1])\n",
    "\n",
    "plt.title(f'LIF Neuron Model Output (with Runge-Kutta method) for Band-Limited White Noise Input (limit = {limit} Hz)')\n",
    "fig.tight_layout()\n",
    "plt.show()"
   ]
  },
  {
   "cell_type": "markdown",
   "metadata": {},
   "source": [
    "# 3. Simulating two spiking neurons\n",
    "\n",
    "**a) Spike plots for constant inputs.** Plot $x(t)$ and the spiking output for $x(t)=0$ (both neurons should spike at about $40$ spikes per second), as well as (in a separate plot) $x(t)=1$ (one neuron should spike at $\\approx 150$ spikes per second, and the other should not spike at all)."
   ]
  },
  {
   "cell_type": "code",
   "execution_count": null,
   "metadata": {},
   "outputs": [],
   "source": [
    "V_x_zero_positive_e = simulate_LIF_neuron(np.zeros(N), 1)\n",
    "V_x_one_positive_e = simulate_LIF_neuron(np.ones(N), 1)\n",
    "\n",
    "V_x_zero_negative_e = simulate_LIF_neuron(np.zeros(N), -1)\n",
    "V_x_one_negative_e = simulate_LIF_neuron(np.ones(N), -1)\n",
    "\n",
    "t = np.arange(0, T, dt)\n",
    "\n",
    "fig, axs = plt.subplots(2, 2, figsize=(12, 8))\n",
    "\n",
    "axs[0, 0].plot(t, V_x_zero_positive_e)\n",
    "axs[0, 0].set_title('$x(t)$ = 0, e = 1')\n",
    "axs[0, 0].set_xlabel('$t$ [s]')\n",
    "axs[0, 0].set_ylabel('membrane potential [V]')\n",
    "\n",
    "axs[0, 1].plot(t, V_x_one_positive_e)\n",
    "axs[0, 1].set_title('$x(t)$ = 1, e = 1')\n",
    "axs[0, 1].set_xlabel('$t$ [s]')\n",
    "axs[0, 1].set_ylabel('membrane potential [V]')\n",
    "\n",
    "axs[1, 0].plot(t, V_x_zero_negative_e)\n",
    "axs[1, 0].set_title('$x(t)$ = 0, e = -1')\n",
    "axs[1, 0].set_xlabel('$t$ [s]')\n",
    "axs[1, 0].set_ylabel('membrane potential [V]')\n",
    "\n",
    "axs[1, 1].plot(t, V_x_one_negative_e)\n",
    "axs[1, 1].set_title('$x(t)$ = 1, e = -1')\n",
    "axs[1, 1].set_xlabel('$t$ [s]')\n",
    "axs[1, 1].set_ylabel('membrane potential [V]')\n",
    "axs[1, 1].set_ylim([-1, 6])\n",
    "\n",
    "plt.tight_layout()\n",
    "plt.show()"
   ]
  },
  {
   "cell_type": "markdown",
   "metadata": {},
   "source": [
    "**b) Spike plots for a sinusodial input.** Plot $x(t)$ and the spiking output for $x(t)=\\frac{1}2 \\sin(10 \\pi t)$."
   ]
  },
  {
   "cell_type": "code",
   "execution_count": null,
   "metadata": {},
   "outputs": [],
   "source": [
    "x_t = 0.5 * np.sin(10 * np.pi * t)\n",
    "V_x_positive_e = simulate_LIF_neuron(x_t, 1)\n",
    "V_x_negative_e = simulate_LIF_neuron(x_t, -1)\n",
    "\n",
    "fig, axs = plt.subplots(3, 1, figsize=(10, 8))\n",
    "\n",
    "axs[0].plot(t, x_t, label=r'$x(t)$ = $\\frac{1}{2}\\sin(10\\pi t)$', linestyle='--', color='r')\n",
    "axs[0].set_title('Sinusoidal Input $x(t)$')\n",
    "axs[0].set_xlabel('$t$ [s]')\n",
    "axs[0].set_ylabel('$x(t)$')\n",
    "axs[0].grid(True)\n",
    "\n",
    "axs[1].plot(t, V_x_positive_e, label='Membrane Potential (e = 1)', color='b')\n",
    "axs[1].set_title('LIF Neuron Model Output Membrane Potential with Sinusoidal Input (e = 1)')\n",
    "axs[1].set_xlabel('$t$ [s]')\n",
    "axs[1].set_ylabel('membrane potential [V]')\n",
    "axs[1].grid(True)\n",
    "\n",
    "axs[2].plot(t, V_x_negative_e, label='Membrane Potential (e = -1)', color='g')\n",
    "axs[2].set_title('LIF Neuron Model Output Membrane Potential with Sinusoidal Input (e = -1)')\n",
    "axs[2].set_xlabel('$t$ [s]')\n",
    "axs[2].set_ylabel('membrane potential [V]')\n",
    "axs[2].grid(True)\n",
    "\n",
    "plt.tight_layout()\n",
    "plt.show()"
   ]
  },
  {
   "cell_type": "markdown",
   "metadata": {},
   "source": [
    "**c) Spike plot for a white noise signal.** Plot $x(t)$ and the spiking output for a random signal generated with your function for question 1.1 with $\\mathtt{T}=2\\,\\mathrm{s}$, $\\mathtt{dt}=1\\,\\mathrm{ms}$, $\\mathtt{rms}=0.5$, and $\\mathtt{limit}=5\\,\\mathrm{Hz}$."
   ]
  },
  {
   "cell_type": "code",
   "execution_count": null,
   "metadata": {},
   "outputs": [],
   "source": [
    "T = 2\n",
    "dt = 0.001\n",
    "rms = 0.5\n",
    "limit = 5\n",
    "\n",
    "t, x_t, _, X_w = generate_band_limited_white_noise(T, dt, rms, limit)\n",
    "V_x_band_limited_white_noise_input_positive_e = simulate_LIF_neuron(x_t, 1)\n",
    "V_x_band_limited_white_noise_input_negative_e = simulate_LIF_neuron(x_t, -1)\n",
    "\n",
    "fig, axs = plt.subplots(3, 1, figsize=(10, 12))\n",
    "\n",
    "axs[0].plot(t, V_x_band_limited_white_noise_input_positive_e, color='b')\n",
    "axs[0].set_title('LIF Neuron Output (white noise input, e = 1)')\n",
    "axs[0].set_xlabel('$t$ [s]')\n",
    "axs[0].set_ylabel('membrane potential [V]')\n",
    "axs[0].grid(True)\n",
    "\n",
    "axs[1].plot(t, V_x_band_limited_white_noise_input_negative_e, color='g')\n",
    "axs[1].set_title('LIF Neuron Output (white noise input, e = -1)')\n",
    "axs[1].set_xlabel('$t$ [s]')\n",
    "axs[1].set_ylabel('membrane potential [V]')\n",
    "axs[1].grid(True)\n",
    "\n",
    "axs[2].plot(t, x_t, linestyle='--', color='r')\n",
    "axs[2].set_title('White Noise Input $x(t)$')\n",
    "axs[2].set_xlabel('$t$ [s]')\n",
    "axs[2].set_ylabel('$x(t)$')\n",
    "axs[2].grid(True)\n",
    "\n",
    "plt.tight_layout()\n",
    "plt.show()"
   ]
  },
  {
   "cell_type": "markdown",
   "metadata": {},
   "source": [
    "# 4. Computing an optimal filter"
   ]
  },
  {
   "cell_type": "markdown",
   "metadata": {},
   "source": [
    "**a) Document the code.** Fill in comments where there are `# !`-signs in the Python code. Make sure that your comments (where this makes sense) describe the semantics of the code and do not just repeat what is obvious from the code itself. Run the function with what you wrote for part 3 above, so that it uses the spike signal generated in 3c)."
   ]
  },
  {
   "cell_type": "code",
   "execution_count": 15,
   "metadata": {},
   "outputs": [],
   "source": [
    "def compute_optimal_filter(\n",
    "        # Signal generated from your white noise generator\n",
    "        x,\n",
    "        # Fourier coefficients from your white noise generator\n",
    "        X,\n",
    "        # Spike train from the previous part\n",
    "        spikes,\n",
    "        # Time step size\n",
    "        dt=1e-3\n",
    "    ):\n",
    "\n",
    "    # x and X should (effectively) be 1D-arrays\n",
    "    assert x.ndim == 1 and X.ndim == 1\n",
    "    assert x.shape[0] == X.shape[0]\n",
    "\n",
    "    # Nt represents the number of time samples in the input signal, which is the signal generated from the white noise generator\n",
    "    Nt = x.size\n",
    "\n",
    "    # Make sure that \"spikes\" is a 2 x Nt array\n",
    "    assert spikes.ndim == 2\n",
    "    assert spikes.shape[0] == 2              \n",
    "    assert spikes.shape[1] == Nt\n",
    "\n",
    "    # The total duration of the signal generated from the white noise generator. Units are in seconds\n",
    "    T = Nt * dt\n",
    "\n",
    "    # Create an array with each element spaced dt apart. This array represents the time vector. The time vector is then shifted so that the middle element of the vector lines up at t=0\n",
    "    ts = np.arange(Nt) * dt - T / 2.0\n",
    "\n",
    "    # Equivalent to np.fft.fftshift(np.fft.fftfreq(Nt, d=dt)). This creates a frequency vector with the middle element of the vector lining up at f=0, with the ends of the frequency vector at/near the Nyquist frequency=(1/dt)/2\n",
    "    fs = np.arange(Nt) / T - Nt / (2.0 * T)\n",
    "\n",
    "    # Convert the frequency vector fs, which has units of Hz, to omega, the corresponding angular frequency vector with units of rad/s\n",
    "    omega = fs * 2.0 * np.pi\n",
    "\n",
    "    # Difference between the spike trains of the positive encoder LIF Neuron Model and the negative encoder LIF Neuron Model. AKA the spike difference vector.\n",
    "    r = spikes[0] - spikes[1]\n",
    "\n",
    "    # Fast fourier transform of the spike train difference vector, shifted in the frequency domain such that the element corresponding to omega = 0 is the middle element of R\n",
    "    R = np.fft.fftshift(np.fft.fft(r))\n",
    "\n",
    "    # Standard deviation of the Gaussian low pass filter\n",
    "    sigma_t = 25e-3\n",
    "\n",
    "    # Gaussian low pass filter \n",
    "    W2 = np.exp(-omega**2*sigma_t**2)\n",
    "\n",
    "    # Normalizing the gaussian low pass filter such that its overall integral is 1 to preserve the energy of a DC input signal\n",
    "    W2 = W2 / sum(W2)\n",
    "\n",
    "    # Product of the fourier transform of the input signal, X, with the complex conjugate of R (fourier transform of spike train difference)\n",
    "    CP = X*R.conjugate()\n",
    "\n",
    "    # Smoothing CP by convolving with the gaussian low pass filter. Numerator of equation 3 for the Optimal Windowed Filter\n",
    "    WCP = np.convolve(CP, W2, 'same')\n",
    "\n",
    "    # Magnitude of R (real valued, any imaginary values should be zero, and if present, is due to floating point error)\n",
    "    RP = R*R.conjugate()\n",
    "\n",
    "    # Smoothing RP by convolving with the gaussian low pass filter. Denominator of equation 3 for the Optimal Windowed Filter\n",
    "    WRP = np.convolve(RP, W2, 'same')\n",
    "\n",
    "    # Magnitude of X (real valued, any imaginary values should be zero, and if present, is due to floating point error)\n",
    "    XP = X*X.conjugate()\n",
    "\n",
    "    # Smoothing input X by convoling with the gaussian low pass filter.\n",
    "    WXP = np.convolve(XP, W2, 'same')\n",
    "\n",
    "    # Calculating the optimal filter\n",
    "    H = WCP / WRP\n",
    "\n",
    "    # Transforming optimal filter from frequency domain to time domain. Shifting H to prepare of inverse FFT, performing the inverse FFT, shifting the output in the time domain to ensure signal is aligned with ts, and extracting the real component\n",
    "    h = np.fft.fftshift(np.fft.ifft(np.fft.ifftshift(H))).real\n",
    "\n",
    "    # Multiplication in the frequency domain, equivalent to convolving in time domain, of the optimal filter and the spike train difference to smooth out the spike train difference\n",
    "    XHAT = H*R\n",
    "\n",
    "    # Transforming smoothed spike trains from frequency domain to time domain. Shifting XHAT to prepare the inverse FFT, performing the inverse FFT, and extracting the real part, discarding the imaginary part\n",
    "    xhat = np.fft.ifft(np.fft.ifftshift(XHAT)).real\n",
    "\n",
    "    return ts, fs, R, H, h, XHAT, xhat, XP, WXP\n",
    "\n",
    "spikes = np.stack((V_x_band_limited_white_noise_input_positive_e, V_x_band_limited_white_noise_input_negative_e), axis=0)\n",
    "ts, fs, R, H, h, XHAT, xhat, XP, WXP = compute_optimal_filter(x_t, X_w, spikes)"
   ]
  },
  {
   "cell_type": "markdown",
   "metadata": {},
   "source": [
    "**b) Optimal filter.** Plot the time and frequency plots of the optimal filter for the signal you generated in question 3c). Make sure to use appropriate limits for the $x$-axis."
   ]
  },
  {
   "cell_type": "code",
   "execution_count": null,
   "metadata": {},
   "outputs": [],
   "source": [
    "plt.figure(figsize=(12, 6))\n",
    "\n",
    "plt.subplot(1, 2, 1)\n",
    "plt.plot(ts, h)\n",
    "plt.title('Optimal Filter (time domain)')\n",
    "plt.xlabel('$t$ [s]')\n",
    "plt.ylabel('$h(t)$')\n",
    "plt.grid(True)\n",
    "\n",
    "plt.subplot(1, 2, 2)\n",
    "plt.plot(2*np.pi*fs, np.abs(H))\n",
    "plt.title('Optimal Filter (frequency domain)')\n",
    "plt.xlabel('$\\omega$ [rad/s]')\n",
    "plt.ylabel('$|H(\\omega)|$')\n",
    "plt.grid(True)\n",
    "plt.xlim([-200, 200]) # limit domain for better plotting\n",
    "\n",
    "plt.tight_layout()\n",
    "plt.show()"
   ]
  },
  {
   "cell_type": "markdown",
   "metadata": {},
   "source": [
    "**c) Decoded signal.** Plot the $x(t)$ signal, the spikes, and the decoded $\\hat x(t)$ value for the signal from 3c)."
   ]
  },
  {
   "cell_type": "code",
   "execution_count": null,
   "metadata": {},
   "outputs": [],
   "source": [
    "plt.figure(figsize=(12, 8))\n",
    "\n",
    "plt.subplot(2, 1, 1)\n",
    "plt.plot(t, x_t, label='$x(t)$', color='blue')\n",
    "plt.plot(t, xhat, label='$\\hat{x}(t)$', color='purple')\n",
    "plt.title('Original vs Decoded Signal')\n",
    "plt.xlabel('$t$ [s]')\n",
    "plt.ylabel('$x$')\n",
    "plt.legend()\n",
    "plt.grid(True)\n",
    "\n",
    "plt.subplot(2, 1, 2)\n",
    "plt.plot(t, spikes[0], label='positive e', color='green')\n",
    "plt.plot(t, spikes[1], label='negative e', color='red')\n",
    "plt.title('Spikes (positive & negative e)')\n",
    "plt.xlabel('$t$ [s]')\n",
    "plt.ylabel('membrane potential [V]')\n",
    "plt.legend()\n",
    "plt.grid(True)\n",
    "\n",
    "plt.tight_layout()\n",
    "plt.show()"
   ]
  },
  {
   "cell_type": "markdown",
   "metadata": {},
   "source": [
    "**d) Power spectra.** Plot the signal $|X(\\omega)|$, spike response $|R(\\omega)|$, and filtered signal $|\\hat X(\\omega)|$ power spectra for the signal from 3c)."
   ]
  },
  {
   "cell_type": "code",
   "execution_count": null,
   "metadata": {},
   "outputs": [],
   "source": [
    "magnitude_X = np.abs(X_w)\n",
    "magnitude_R = np.abs(R)\n",
    "magnitude_XHAT = np.abs(XHAT)\n",
    "\n",
    "plt.figure(figsize=(12, 8))\n",
    "\n",
    "plt.subplot(3, 1, 1)\n",
    "plt.plot(2*np.pi*fs, magnitude_X, color='blue')\n",
    "plt.title('Power Spectrum of Original Signal $X(\\omega)$')\n",
    "plt.xlabel('$\\omega$ [rad/s]')\n",
    "plt.ylabel('$|X(\\omega)|$')\n",
    "plt.xlim([-500, 500]) # limit domain for better plotting\n",
    "plt.grid(True)\n",
    "\n",
    "plt.subplot(3, 1, 2)\n",
    "plt.plot(2*np.pi*fs, magnitude_R, color='orange')\n",
    "plt.title('Power Spectrum of Spike Response $R(\\omega)$')\n",
    "plt.xlabel('$\\omega$ [rad/s]')\n",
    "plt.ylabel('$|R(\\omega)|$')\n",
    "plt.xlim([-500, 500]) # limit domain for better plotting\n",
    "plt.grid(True)\n",
    "\n",
    "plt.subplot(3, 1, 3)\n",
    "plt.plot(2*np.pi*fs, magnitude_XHAT, color='purple')\n",
    "plt.title('Power Spectrum of Filtered Signal $\\hat{X}(\\omega)$')\n",
    "plt.xlabel('$\\omega$ [rad/s]')\n",
    "plt.ylabel('$|\\hat{X}(\\omega)|$')\n",
    "plt.xlim([-500, 500]) # limit domain for better plotting\n",
    "plt.grid(True)\n",
    "\n",
    "plt.tight_layout()\n",
    "plt.show()"
   ]
  },
  {
   "cell_type": "markdown",
   "metadata": {},
   "source": [
    "**e) Discussion.** How do these spectra relate to the optimal filter?"
   ]
  },
  {
   "cell_type": "markdown",
   "metadata": {},
   "source": [
    "Looking at the spectra of the original signal and the corresponding spike response, \n",
    "it is evident that the quality of the original signal can be preserved by attenuating the high frequencies\n",
    "and passing the low frequencies, which was performed by multiplication of the optimal filter. By doing so,\n",
    "we can obtain a somewhat accurate estimation of the input, of which its spectrum can be seen as the bottom most plot, \n",
    "the power spectrum of the filtered signal"
   ]
  },
  {
   "cell_type": "markdown",
   "metadata": {},
   "source": [
    "**f) Filter for different signal bandwidths.** Plot the optmial filter $h(t)$ in the time domain when filtering spike trains for white noise signals with different `limit` values of $2\\,\\mathrm{Hz}$, $10\\,\\mathrm{Hz}$, and $30\\,\\mathrm{Hz}$."
   ]
  },
  {
   "cell_type": "code",
   "execution_count": null,
   "metadata": {},
   "outputs": [],
   "source": [
    "T = 2\n",
    "dt = 0.001\n",
    "rms = 0.5\n",
    "limits = [2,10,30]\n",
    "\n",
    "fig, axes = plt.subplots(len(limits), 1, figsize=(8, 10))\n",
    "\n",
    "for i , limit in enumerate(limits):\n",
    "    _, x_t_i, _, X_w_i = generate_band_limited_white_noise(T, dt, rms, limit)\n",
    "    V_x_positive_e_i = simulate_LIF_neuron(x_t_i, 1)\n",
    "    V_x_negative_e_i = simulate_LIF_neuron(x_t_i, -1)\n",
    "\n",
    "    ts, _, _, _, h, _, _, _, _ = compute_optimal_filter(x_t_i, X_w_i, np.stack((V_x_positive_e_i, V_x_negative_e_i), axis=0))\n",
    "\n",
    "    axes[i].plot(ts, h)\n",
    "    axes[i].set_title(f'Optimal Filter $h(t)$ (limit = {limit} Hz)')\n",
    "    axes[i].set_xlabel('$t$ [s]')\n",
    "    axes[i].set_ylabel('$h(t)$')\n",
    "    axes[i].grid(True)\n",
    "\n",
    "plt.tight_layout()\n",
    "plt.show()"
   ]
  },
  {
   "cell_type": "markdown",
   "metadata": {},
   "source": [
    "**g) Discussion.** Describe the effects on the time plot of the optimal filter as `limit` increases. Why does this happen?"
   ]
  },
  {
   "cell_type": "markdown",
   "metadata": {},
   "source": [
    "As limit increases, the time plot of the optimal filter appears to contain more and more high frequency content.\n",
    "This happens because as the limit variable increases, there is going to be more higher frequency content in the\n",
    "input signal. Therefore, to accurately estimate the input signal, the cutoff frequency of the optimal filter must also expand, \n",
    "which results in the larger amount of high frequency content in the above plots as limit increases."
   ]
  },
  {
   "cell_type": "markdown",
   "metadata": {},
   "source": [
    "# Using post-synaptic currents as a filter\n",
    "\n",
    "\n",
    "**a) Plotting the filter for different $n$.** Plot the normalized $h(t)$ for $n=0$, $1$, and $2$, with $\\tau=7\\,\\mathrm{ms}$."
   ]
  },
  {
   "cell_type": "markdown",
   "metadata": {},
   "source": [
    "c can be expressed in terms of the Gamma function by using substitution to rewrite the integral:\n",
    "$$\n",
    "c = \\int_0^\\infty t^n e^{-\\frac{t}{\\tau}} ,\\mathrm{d}t = \\tau^{n+1} \\Gamma(n+1)\n",
    "$$\n",
    "$$\n",
    "c(n=0) = \\tau^{1} \\Gamma(1) = \\tau^{1} \\cdot 1 = \\tau\n",
    "$$\n",
    "$$\n",
    "c(n=1) = \\tau^{2} \\Gamma(2) = \\tau^{2} \\cdot 1 = \\tau^2\n",
    "$$\n",
    "$$\n",
    "c(n=2) = \\tau^{3} \\Gamma(3) = \\tau^{3} \\cdot 2 = 2\\tau^3\n",
    "$$"
   ]
  },
  {
   "cell_type": "code",
   "execution_count": null,
   "metadata": {},
   "outputs": [],
   "source": [
    "tau = 7e-3  # [s]\n",
    "T = 0.1  # max time 0.1 seconds, appropriate amount of time for filter window, as h(t) ~= 0 beyond 0.1 seconds\n",
    "dt = 1e-3 # [s]\n",
    "filter_t = np.arange(0, T, dt)\n",
    "\n",
    "def h_n0(_time_vector, tau):\n",
    "    return np.where(_time_vector >= 0, np.exp(-_time_vector / tau) / tau, 0)\n",
    "def h_n1(_time_vector, tau):\n",
    "    return np.where(_time_vector >= 0, (_time_vector * np.exp(-_time_vector / tau)) / (tau**2), 0)\n",
    "def h_n2(_time_vector, tau):\n",
    "    return np.where(_time_vector >= 0, (_time_vector**2 * np.exp(-_time_vector / tau)) / (2 * tau**3), 0)\n",
    "\n",
    "h0 = h_n0(filter_t, tau)\n",
    "h1 = h_n1(filter_t, tau)\n",
    "h2 = h_n2(filter_t, tau)\n",
    "\n",
    "plt.figure(figsize=(12, 6))\n",
    "plt.plot(filter_t * 1000, h0, label='n: 0', color='blue')\n",
    "plt.plot(filter_t * 1000, h1, label='n: 1', color='orange')\n",
    "plt.plot(filter_t * 1000, h2, label='n: 2', color='green')\n",
    "plt.title(r'$N^{th}$ order Exponential Low Pass Filter $h(t)$ for different values of $n$, $\\tau$ = ' + f'{tau * 1000:.0f} ms')\n",
    "plt.xlabel('$t$ [ms]')\n",
    "plt.ylabel('$h(t)$')\n",
    "plt.legend()\n",
    "plt.grid()\n",
    "plt.show()"
   ]
  },
  {
   "cell_type": "markdown",
   "metadata": {},
   "source": [
    "**b) Discussion.** What two things do you expect increasing $n$ will do to $\\hat{x}(t)$?"
   ]
  },
  {
   "cell_type": "markdown",
   "metadata": {},
   "source": [
    "As n increases, there will be less high frequency content present in x_hat. Additionally, as n increases, x_hat's time delay will also increase, since the peak magnitude of each spike is occurring later instead of earlier/instantaneously."
   ]
  },
  {
   "cell_type": "markdown",
   "metadata": {},
   "source": [
    "**c) Plotting the filter for different $\\tau$.** Plot the normalized $h(t)$ for $\\tau=2\\,\\mathrm{ms}$, $\\tau=5\\,\\mathrm{ms}$, $\\tau=10\\,\\mathrm{ms}$, $\\tau=20\\,\\mathrm{ms}$ with $n = 0$."
   ]
  },
  {
   "cell_type": "code",
   "execution_count": null,
   "metadata": {},
   "outputs": [],
   "source": [
    "taus = [2e-3, 5e-3, 10e-3, 20e-3]\n",
    "\n",
    "plt.figure(figsize=(12, 8))\n",
    "\n",
    "for tau in taus:\n",
    "    h_n0_t = h_n0(filter_t, tau) # h(t) for n = 0\n",
    "    plt.plot(filter_t * 1000, h_n0_t, label=f'$\\\\tau$: {tau * 1000:.0f} ms') # Convert time to ms for plotting\n",
    "\n",
    "plt.title(r'$N^{th}$ order Exponential Low Pass Filter $h(t)$ for different values of $\\tau$, $n$ = 0')\n",
    "plt.xlabel('$t$ [ms]')\n",
    "plt.ylabel('$h(t)$')\n",
    "plt.legend()\n",
    "plt.grid()\n",
    "plt.show()"
   ]
  },
  {
   "cell_type": "markdown",
   "metadata": {},
   "source": [
    "**d) Discussion.** What two things do you expect increasing $\\tau$ will do to $\\hat{x}(t)$?"
   ]
  },
  {
   "cell_type": "markdown",
   "metadata": {},
   "source": [
    "As $\\tau$ increases, there will be less high frequency content present in x_hat. Additionally, I would expect the rise time and settling time of x_hat to increase, as the energy of the signal is spread out over a longer period of time."
   ]
  },
  {
   "cell_type": "markdown",
   "metadata": {},
   "source": [
    "**e) Decoding a spike-train using the post-synaptic current filter.** Decode $\\hat{x}(t)$ from the spikes generated in question 3c) using an $h(t)$ with $n=0$ and $\\tau=7\\,\\mathrm{ms}$. Do this by generating the spikes, filtering them with $h(t)$, and using that as your activity matrix $A$ to compute your decoders. Plot the time and frequency plots for this $h(t)$. Plot the $x(t)$ signal, the spikes, and the decoded $\\hat{x}(t)$ value."
   ]
  },
  {
   "cell_type": "code",
   "execution_count": 22,
   "metadata": {},
   "outputs": [],
   "source": [
    "tau = 7e-3  # [s]\n",
    "\n",
    "h_n0_t = h_n0(filter_t, tau)\n",
    "H_n0_w = np.fft.fft(h_n0_t)\n",
    "w = 2 * np.pi * np.fft.fftfreq(len(filter_t), d=dt)\n",
    "\n",
    "def filter_signal(signal):\n",
    "    filtered_signal = np.zeros(len(signal))\n",
    "    \n",
    "    # Loop through the signal and apply the filter h(t) at each spike location\n",
    "    for i, curr_signal in enumerate(signal):\n",
    "        if curr_signal == normalized_spike_voltage:\n",
    "            if i + len(h_n0_t) <= len(signal):\n",
    "                filtered_signal[i:i+len(h_n0_t)] += h_n0_t\n",
    "            else: # Handle case when spike occurs near the end, trim h_n0_t accordingly\n",
    "                filtered_signal[i:] += h_n0_t[:len(signal) - i]\n",
    "    \n",
    "    return filtered_signal\n",
    "\n",
    "filtered_spikes = np.array([filter_signal(spikes[0]), filter_signal(spikes[1])])\n",
    "D = np.array(np.linalg.lstsq(filtered_spikes.T, x_t, rcond=None)[0])\n",
    "x_hat_t = filtered_spikes.T @ D"
   ]
  },
  {
   "cell_type": "code",
   "execution_count": null,
   "metadata": {},
   "outputs": [],
   "source": [
    "plt.figure(figsize=(12, 20))\n",
    "plt.subplot(5, 1, 1)\n",
    "plt.plot(filter_t * 1000, h_n0_t)\n",
    "plt.title('Post-Synaptic Current Filter $h(t)$ ($n$ = 0, $\\\\tau$ = 7 ms)')\n",
    "plt.xlabel('$t$ [ms]')\n",
    "plt.ylabel('$h(t)$')\n",
    "plt.grid(True)\n",
    "\n",
    "plt.subplot(5, 1, 2)\n",
    "plt.plot(w[:len(w)//2], np.abs(H_n0_w[:len(H_n0_w)//2]))\n",
    "plt.title('Post-Synaptic Current Filter $H(\\omega)$ ($n$ = 0, $\\\\tau$ = 7 ms)')\n",
    "plt.xlabel('$\\omega$ [rad/s]')\n",
    "plt.ylabel('$|H(\\omega)|$')\n",
    "plt.grid(True)\n",
    "\n",
    "plt.subplot(5, 1, 3)\n",
    "plt.plot(t, x_t, label='$x(t)$', color='k')\n",
    "plt.plot(t, x_hat_t, label='$\\hat{x}(t)$')\n",
    "plt.title('Original vs Decoded Signal')\n",
    "plt.xlabel('$t$ [s]')\n",
    "plt.ylabel('x')\n",
    "plt.grid(True)\n",
    "plt.legend()\n",
    "\n",
    "plt.subplot(5, 1, 4)\n",
    "plt.plot(t, spikes[0], label='positive e', color='k')\n",
    "plt.plot(t, spikes[1], label='negative e')\n",
    "plt.title('Spikes')\n",
    "plt.xlabel('$t$ [s]')\n",
    "plt.ylabel('membrane potential [V]')\n",
    "plt.grid(True)\n",
    "plt.legend()\n",
    "\n",
    "plt.subplot(5, 1, 5)\n",
    "plt.plot(t, filtered_spikes[0], label='positive e', color='k')\n",
    "plt.plot(t, filtered_spikes[1], label='negative e')\n",
    "plt.title(\"'Filtered' spikes\")\n",
    "plt.xlabel(\"$t$ [s]\")\n",
    "plt.ylabel(\"Amplitude\")\n",
    "plt.grid(True)\n",
    "plt.legend()\n",
    "\n",
    "plt.tight_layout()\n",
    "plt.show()"
   ]
  },
  {
   "cell_type": "markdown",
   "metadata": {},
   "source": [
    "**f) Deocding a spike-train representing a low-frequency signal.** Use the same decoder and $h(t)$ as in part e), but generate a new $x(t)$ with $\\mathtt{limit}=2\\,\\mathrm{Hz}$. Plot the $x(t)$ signal, the spikes, and the decoded $\\hat{x}(t)$ value."
   ]
  },
  {
   "cell_type": "code",
   "execution_count": 24,
   "metadata": {},
   "outputs": [],
   "source": [
    "T = 2\n",
    "dt = 0.001\n",
    "rms = 0.5\n",
    "limit = 2\n",
    "\n",
    "t, x_t, _, X_w = generate_band_limited_white_noise(T, dt, rms, limit)\n",
    "V_x_band_limited_white_noise_input_positive_e = simulate_LIF_neuron(x_t, 1)\n",
    "V_x_band_limited_white_noise_input_negative_e = simulate_LIF_neuron(x_t, -1)\n",
    "\n",
    "filtered_spikes = np.array([filter_signal(V_x_band_limited_white_noise_input_positive_e), filter_signal(V_x_band_limited_white_noise_input_negative_e)])\n",
    "x_hat_t = filtered_spikes.T @ D"
   ]
  },
  {
   "cell_type": "code",
   "execution_count": null,
   "metadata": {},
   "outputs": [],
   "source": [
    "plt.figure(figsize=(12, 12))\n",
    "\n",
    "plt.subplot(3, 1, 1)\n",
    "plt.plot(t, x_t, label='$x(t)$', color='k')\n",
    "plt.plot(t, x_hat_t, label='$\\hat{x}(t)$')\n",
    "plt.title('Original vs Decoded Signal')\n",
    "plt.xlabel('$t$ [s]')\n",
    "plt.ylabel('x')\n",
    "plt.grid(True)\n",
    "plt.legend()\n",
    "\n",
    "plt.subplot(3, 1, 2)\n",
    "plt.plot(t, V_x_band_limited_white_noise_input_positive_e, label='positive e', color='k')\n",
    "plt.plot(t, V_x_band_limited_white_noise_input_negative_e, label='negative e')\n",
    "plt.title('Spikes')\n",
    "plt.xlabel('$t$ [s]')\n",
    "plt.ylabel('membrane potential [V]')\n",
    "plt.grid(True)\n",
    "plt.legend()\n",
    "\n",
    "plt.subplot(3, 1, 3)\n",
    "plt.plot(t, filtered_spikes[0], label='positive e', color='k')\n",
    "plt.plot(t, filtered_spikes[1], label='negative e')\n",
    "plt.title(\"'Filtered' spikes\")\n",
    "plt.xlabel(\"$t$ [s]\")\n",
    "plt.ylabel(\"Amplitude\")\n",
    "plt.grid(True)\n",
    "plt.legend()\n",
    "\n",
    "plt.tight_layout()\n",
    "plt.show()"
   ]
  },
  {
   "cell_type": "markdown",
   "metadata": {},
   "source": [
    "**g) Discussion.** How do the decodings from e) and f) compare? Explain."
   ]
  },
  {
   "cell_type": "markdown",
   "metadata": {},
   "source": [
    "Comparing the decodings from e and f, both decodings appear to estimate the original signal to the same degree of accuracy. As the band limit for computing the decoder was wider than the limit of the signal in f, the decoder should contain 'information' to make that estimate accurately, potentially to the same degree as the signal in e"
   ]
  }
 ],
 "metadata": {
  "kernelspec": {
   "display_name": "syde556",
   "language": "python",
   "name": "python3"
  },
  "language_info": {
   "codemirror_mode": {
    "name": "ipython",
    "version": 3
   },
   "file_extension": ".py",
   "mimetype": "text/x-python",
   "name": "python",
   "nbconvert_exporter": "python",
   "pygments_lexer": "ipython3",
   "version": "3.8.20"
  }
 },
 "nbformat": 4,
 "nbformat_minor": 4
}
